{
 "cells": [
  {
   "cell_type": "code",
   "execution_count": 1,
   "id": "c2dbdbb0-9b0b-4998-be78-5c35eaffa130",
   "metadata": {},
   "outputs": [
    {
     "name": "stdout",
     "output_type": "stream",
     "text": [
      "hello ucd\n"
     ]
    }
   ],
   "source": [
    "print(\"hello ucd\")"
   ]
  },
  {
   "cell_type": "code",
   "execution_count": 2,
   "id": "5b4fb7a6-f455-420d-a39c-80a6b9f0f520",
   "metadata": {},
   "outputs": [
    {
     "name": "stdout",
     "output_type": "stream",
     "text": [
      "making a change\n"
     ]
    }
   ],
   "source": [
    "print(\"making a change\")"
   ]
  },
  {
   "cell_type": "code",
   "execution_count": null,
   "id": "13059877-a6b6-49ba-9bcd-8954fac757ec",
   "metadata": {},
   "outputs": [],
   "source": []
  }
 ],
 "metadata": {
  "kernelspec": {
   "display_name": "Python 3 (ipykernel)",
   "language": "python",
   "name": "python3"
  },
  "language_info": {
   "codemirror_mode": {
    "name": "ipython",
    "version": 3
   },
   "file_extension": ".py",
   "mimetype": "text/x-python",
   "name": "python",
   "nbconvert_exporter": "python",
   "pygments_lexer": "ipython3",
   "version": "3.11.3"
  }
 },
 "nbformat": 4,
 "nbformat_minor": 5
}
